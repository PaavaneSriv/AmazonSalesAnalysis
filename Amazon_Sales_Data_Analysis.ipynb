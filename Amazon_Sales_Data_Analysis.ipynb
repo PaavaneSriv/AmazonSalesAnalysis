{
  "nbformat": 4,
  "nbformat_minor": 0,
  "metadata": {
    "colab": {
      "provenance": [],
      "toc_visible": true
    },
    "kernelspec": {
      "name": "python3",
      "display_name": "Python 3"
    },
    "language_info": {
      "name": "python"
    }
  },
  "cells": [
    {
      "cell_type": "markdown",
      "source": [
        "# **Project Nmae: Analysing Amazon Sales Data**\n",
        "<br>\n",
        "\n",
        "**Domain:** E-commerce\n",
        "<br>\n",
        "\n",
        "**Problem Statement:**\n",
        "Sales management has gained importance to meet increasing competition and the\n",
        "need for improved methods of distribution to reduce cost and to increase profits. Sales\n",
        "management today is the most important function in a commercial and business\n",
        "enterprise.\n",
        "\n",
        "**Tools used:** Python, pandas, Power BI\n",
        "\n",
        "\n",
        "Performing EDA (Explorartory Data Analysis) to make sure there any missing or null values for better visualisations and gain usefull insights."
      ],
      "metadata": {
        "id": "OBpIORbWWphe"
      }
    },
    {
      "cell_type": "markdown",
      "source": [
        "# **Import Libraries**"
      ],
      "metadata": {
        "id": "JA4jjnbq3ewy"
      }
    },
    {
      "cell_type": "code",
      "execution_count": 14,
      "metadata": {
        "id": "96zcD4cGEkSF"
      },
      "outputs": [],
      "source": [
        "import pandas as pd\n",
        "import numpy as np"
      ]
    },
    {
      "cell_type": "markdown",
      "source": [
        "# **Data Loading**"
      ],
      "metadata": {
        "id": "gEp9OFj-3kKV"
      }
    },
    {
      "cell_type": "code",
      "source": [
        "data = pd.read_csv(\"/content/Amazon Sales data.csv\")"
      ],
      "metadata": {
        "id": "CND_OqRFmQ4n"
      },
      "execution_count": 15,
      "outputs": []
    },
    {
      "cell_type": "code",
      "source": [
        "data"
      ],
      "metadata": {
        "colab": {
          "base_uri": "https://localhost:8080/",
          "height": 614
        },
        "id": "pI-IFkR4UnEP",
        "outputId": "d01c56bb-4a40-4dc7-8524-51ed555755f4"
      },
      "execution_count": 16,
      "outputs": [
        {
          "output_type": "execute_result",
          "data": {
            "text/plain": [
              "                               Region                Country        Item Type  \\\n",
              "0               Australia and Oceania                 Tuvalu        Baby Food   \n",
              "1   Central America and the Caribbean                Grenada           Cereal   \n",
              "2                              Europe                 Russia  Office Supplies   \n",
              "3                  Sub-Saharan Africa  Sao Tome and Principe           Fruits   \n",
              "4                  Sub-Saharan Africa                 Rwanda  Office Supplies   \n",
              "..                                ...                    ...              ...   \n",
              "95                 Sub-Saharan Africa                   Mali          Clothes   \n",
              "96                               Asia               Malaysia           Fruits   \n",
              "97                 Sub-Saharan Africa           Sierra Leone       Vegetables   \n",
              "98                      North America                 Mexico    Personal Care   \n",
              "99                 Sub-Saharan Africa             Mozambique        Household   \n",
              "\n",
              "   Sales Channel Order Priority  Order Date   Order ID   Ship Date  \\\n",
              "0        Offline              H   5/28/2010  669165933   6/27/2010   \n",
              "1         Online              C   8/22/2012  963881480   9/15/2012   \n",
              "2        Offline              L    5/2/2014  341417157    5/8/2014   \n",
              "3         Online              C   6/20/2014  514321792    7/5/2014   \n",
              "4        Offline              L    2/1/2013  115456712    2/6/2013   \n",
              "..           ...            ...         ...        ...         ...   \n",
              "95        Online              M   7/26/2011  512878119    9/3/2011   \n",
              "96       Offline              L  11/11/2011  810711038  12/28/2011   \n",
              "97       Offline              C    6/1/2016  728815257   6/29/2016   \n",
              "98       Offline              M   7/30/2015  559427106    8/8/2015   \n",
              "99       Offline              L   2/10/2012  665095412   2/15/2012   \n",
              "\n",
              "    Units Sold  Unit Price  Unit Cost  Total Revenue  Total Cost  Total Profit  \n",
              "0         9925      255.28     159.42     2533654.00  1582243.50     951410.50  \n",
              "1         2804      205.70     117.11      576782.80   328376.44     248406.36  \n",
              "2         1779      651.21     524.96     1158502.59   933903.84     224598.75  \n",
              "3         8102        9.33       6.92       75591.66    56065.84      19525.82  \n",
              "4         5062      651.21     524.96     3296425.02  2657347.52     639077.50  \n",
              "..         ...         ...        ...            ...         ...           ...  \n",
              "95         888      109.28      35.84       97040.64    31825.92      65214.72  \n",
              "96        6267        9.33       6.92       58471.11    43367.64      15103.47  \n",
              "97        1485      154.06      90.93      228779.10   135031.05      93748.05  \n",
              "98        5767       81.73      56.67      471336.91   326815.89     144521.02  \n",
              "99        5367      668.27     502.54     3586605.09  2697132.18     889472.91  \n",
              "\n",
              "[100 rows x 14 columns]"
            ],
            "text/html": [
              "\n",
              "  <div id=\"df-f2f85660-7000-4d95-bc5a-eb1afd7be067\" class=\"colab-df-container\">\n",
              "    <div>\n",
              "<style scoped>\n",
              "    .dataframe tbody tr th:only-of-type {\n",
              "        vertical-align: middle;\n",
              "    }\n",
              "\n",
              "    .dataframe tbody tr th {\n",
              "        vertical-align: top;\n",
              "    }\n",
              "\n",
              "    .dataframe thead th {\n",
              "        text-align: right;\n",
              "    }\n",
              "</style>\n",
              "<table border=\"1\" class=\"dataframe\">\n",
              "  <thead>\n",
              "    <tr style=\"text-align: right;\">\n",
              "      <th></th>\n",
              "      <th>Region</th>\n",
              "      <th>Country</th>\n",
              "      <th>Item Type</th>\n",
              "      <th>Sales Channel</th>\n",
              "      <th>Order Priority</th>\n",
              "      <th>Order Date</th>\n",
              "      <th>Order ID</th>\n",
              "      <th>Ship Date</th>\n",
              "      <th>Units Sold</th>\n",
              "      <th>Unit Price</th>\n",
              "      <th>Unit Cost</th>\n",
              "      <th>Total Revenue</th>\n",
              "      <th>Total Cost</th>\n",
              "      <th>Total Profit</th>\n",
              "    </tr>\n",
              "  </thead>\n",
              "  <tbody>\n",
              "    <tr>\n",
              "      <th>0</th>\n",
              "      <td>Australia and Oceania</td>\n",
              "      <td>Tuvalu</td>\n",
              "      <td>Baby Food</td>\n",
              "      <td>Offline</td>\n",
              "      <td>H</td>\n",
              "      <td>5/28/2010</td>\n",
              "      <td>669165933</td>\n",
              "      <td>6/27/2010</td>\n",
              "      <td>9925</td>\n",
              "      <td>255.28</td>\n",
              "      <td>159.42</td>\n",
              "      <td>2533654.00</td>\n",
              "      <td>1582243.50</td>\n",
              "      <td>951410.50</td>\n",
              "    </tr>\n",
              "    <tr>\n",
              "      <th>1</th>\n",
              "      <td>Central America and the Caribbean</td>\n",
              "      <td>Grenada</td>\n",
              "      <td>Cereal</td>\n",
              "      <td>Online</td>\n",
              "      <td>C</td>\n",
              "      <td>8/22/2012</td>\n",
              "      <td>963881480</td>\n",
              "      <td>9/15/2012</td>\n",
              "      <td>2804</td>\n",
              "      <td>205.70</td>\n",
              "      <td>117.11</td>\n",
              "      <td>576782.80</td>\n",
              "      <td>328376.44</td>\n",
              "      <td>248406.36</td>\n",
              "    </tr>\n",
              "    <tr>\n",
              "      <th>2</th>\n",
              "      <td>Europe</td>\n",
              "      <td>Russia</td>\n",
              "      <td>Office Supplies</td>\n",
              "      <td>Offline</td>\n",
              "      <td>L</td>\n",
              "      <td>5/2/2014</td>\n",
              "      <td>341417157</td>\n",
              "      <td>5/8/2014</td>\n",
              "      <td>1779</td>\n",
              "      <td>651.21</td>\n",
              "      <td>524.96</td>\n",
              "      <td>1158502.59</td>\n",
              "      <td>933903.84</td>\n",
              "      <td>224598.75</td>\n",
              "    </tr>\n",
              "    <tr>\n",
              "      <th>3</th>\n",
              "      <td>Sub-Saharan Africa</td>\n",
              "      <td>Sao Tome and Principe</td>\n",
              "      <td>Fruits</td>\n",
              "      <td>Online</td>\n",
              "      <td>C</td>\n",
              "      <td>6/20/2014</td>\n",
              "      <td>514321792</td>\n",
              "      <td>7/5/2014</td>\n",
              "      <td>8102</td>\n",
              "      <td>9.33</td>\n",
              "      <td>6.92</td>\n",
              "      <td>75591.66</td>\n",
              "      <td>56065.84</td>\n",
              "      <td>19525.82</td>\n",
              "    </tr>\n",
              "    <tr>\n",
              "      <th>4</th>\n",
              "      <td>Sub-Saharan Africa</td>\n",
              "      <td>Rwanda</td>\n",
              "      <td>Office Supplies</td>\n",
              "      <td>Offline</td>\n",
              "      <td>L</td>\n",
              "      <td>2/1/2013</td>\n",
              "      <td>115456712</td>\n",
              "      <td>2/6/2013</td>\n",
              "      <td>5062</td>\n",
              "      <td>651.21</td>\n",
              "      <td>524.96</td>\n",
              "      <td>3296425.02</td>\n",
              "      <td>2657347.52</td>\n",
              "      <td>639077.50</td>\n",
              "    </tr>\n",
              "    <tr>\n",
              "      <th>...</th>\n",
              "      <td>...</td>\n",
              "      <td>...</td>\n",
              "      <td>...</td>\n",
              "      <td>...</td>\n",
              "      <td>...</td>\n",
              "      <td>...</td>\n",
              "      <td>...</td>\n",
              "      <td>...</td>\n",
              "      <td>...</td>\n",
              "      <td>...</td>\n",
              "      <td>...</td>\n",
              "      <td>...</td>\n",
              "      <td>...</td>\n",
              "      <td>...</td>\n",
              "    </tr>\n",
              "    <tr>\n",
              "      <th>95</th>\n",
              "      <td>Sub-Saharan Africa</td>\n",
              "      <td>Mali</td>\n",
              "      <td>Clothes</td>\n",
              "      <td>Online</td>\n",
              "      <td>M</td>\n",
              "      <td>7/26/2011</td>\n",
              "      <td>512878119</td>\n",
              "      <td>9/3/2011</td>\n",
              "      <td>888</td>\n",
              "      <td>109.28</td>\n",
              "      <td>35.84</td>\n",
              "      <td>97040.64</td>\n",
              "      <td>31825.92</td>\n",
              "      <td>65214.72</td>\n",
              "    </tr>\n",
              "    <tr>\n",
              "      <th>96</th>\n",
              "      <td>Asia</td>\n",
              "      <td>Malaysia</td>\n",
              "      <td>Fruits</td>\n",
              "      <td>Offline</td>\n",
              "      <td>L</td>\n",
              "      <td>11/11/2011</td>\n",
              "      <td>810711038</td>\n",
              "      <td>12/28/2011</td>\n",
              "      <td>6267</td>\n",
              "      <td>9.33</td>\n",
              "      <td>6.92</td>\n",
              "      <td>58471.11</td>\n",
              "      <td>43367.64</td>\n",
              "      <td>15103.47</td>\n",
              "    </tr>\n",
              "    <tr>\n",
              "      <th>97</th>\n",
              "      <td>Sub-Saharan Africa</td>\n",
              "      <td>Sierra Leone</td>\n",
              "      <td>Vegetables</td>\n",
              "      <td>Offline</td>\n",
              "      <td>C</td>\n",
              "      <td>6/1/2016</td>\n",
              "      <td>728815257</td>\n",
              "      <td>6/29/2016</td>\n",
              "      <td>1485</td>\n",
              "      <td>154.06</td>\n",
              "      <td>90.93</td>\n",
              "      <td>228779.10</td>\n",
              "      <td>135031.05</td>\n",
              "      <td>93748.05</td>\n",
              "    </tr>\n",
              "    <tr>\n",
              "      <th>98</th>\n",
              "      <td>North America</td>\n",
              "      <td>Mexico</td>\n",
              "      <td>Personal Care</td>\n",
              "      <td>Offline</td>\n",
              "      <td>M</td>\n",
              "      <td>7/30/2015</td>\n",
              "      <td>559427106</td>\n",
              "      <td>8/8/2015</td>\n",
              "      <td>5767</td>\n",
              "      <td>81.73</td>\n",
              "      <td>56.67</td>\n",
              "      <td>471336.91</td>\n",
              "      <td>326815.89</td>\n",
              "      <td>144521.02</td>\n",
              "    </tr>\n",
              "    <tr>\n",
              "      <th>99</th>\n",
              "      <td>Sub-Saharan Africa</td>\n",
              "      <td>Mozambique</td>\n",
              "      <td>Household</td>\n",
              "      <td>Offline</td>\n",
              "      <td>L</td>\n",
              "      <td>2/10/2012</td>\n",
              "      <td>665095412</td>\n",
              "      <td>2/15/2012</td>\n",
              "      <td>5367</td>\n",
              "      <td>668.27</td>\n",
              "      <td>502.54</td>\n",
              "      <td>3586605.09</td>\n",
              "      <td>2697132.18</td>\n",
              "      <td>889472.91</td>\n",
              "    </tr>\n",
              "  </tbody>\n",
              "</table>\n",
              "<p>100 rows × 14 columns</p>\n",
              "</div>\n",
              "    <div class=\"colab-df-buttons\">\n",
              "\n",
              "  <div class=\"colab-df-container\">\n",
              "    <button class=\"colab-df-convert\" onclick=\"convertToInteractive('df-f2f85660-7000-4d95-bc5a-eb1afd7be067')\"\n",
              "            title=\"Convert this dataframe to an interactive table.\"\n",
              "            style=\"display:none;\">\n",
              "\n",
              "  <svg xmlns=\"http://www.w3.org/2000/svg\" height=\"24px\" viewBox=\"0 -960 960 960\">\n",
              "    <path d=\"M120-120v-720h720v720H120Zm60-500h600v-160H180v160Zm220 220h160v-160H400v160Zm0 220h160v-160H400v160ZM180-400h160v-160H180v160Zm440 0h160v-160H620v160ZM180-180h160v-160H180v160Zm440 0h160v-160H620v160Z\"/>\n",
              "  </svg>\n",
              "    </button>\n",
              "\n",
              "  <style>\n",
              "    .colab-df-container {\n",
              "      display:flex;\n",
              "      gap: 12px;\n",
              "    }\n",
              "\n",
              "    .colab-df-convert {\n",
              "      background-color: #E8F0FE;\n",
              "      border: none;\n",
              "      border-radius: 50%;\n",
              "      cursor: pointer;\n",
              "      display: none;\n",
              "      fill: #1967D2;\n",
              "      height: 32px;\n",
              "      padding: 0 0 0 0;\n",
              "      width: 32px;\n",
              "    }\n",
              "\n",
              "    .colab-df-convert:hover {\n",
              "      background-color: #E2EBFA;\n",
              "      box-shadow: 0px 1px 2px rgba(60, 64, 67, 0.3), 0px 1px 3px 1px rgba(60, 64, 67, 0.15);\n",
              "      fill: #174EA6;\n",
              "    }\n",
              "\n",
              "    .colab-df-buttons div {\n",
              "      margin-bottom: 4px;\n",
              "    }\n",
              "\n",
              "    [theme=dark] .colab-df-convert {\n",
              "      background-color: #3B4455;\n",
              "      fill: #D2E3FC;\n",
              "    }\n",
              "\n",
              "    [theme=dark] .colab-df-convert:hover {\n",
              "      background-color: #434B5C;\n",
              "      box-shadow: 0px 1px 3px 1px rgba(0, 0, 0, 0.15);\n",
              "      filter: drop-shadow(0px 1px 2px rgba(0, 0, 0, 0.3));\n",
              "      fill: #FFFFFF;\n",
              "    }\n",
              "  </style>\n",
              "\n",
              "    <script>\n",
              "      const buttonEl =\n",
              "        document.querySelector('#df-f2f85660-7000-4d95-bc5a-eb1afd7be067 button.colab-df-convert');\n",
              "      buttonEl.style.display =\n",
              "        google.colab.kernel.accessAllowed ? 'block' : 'none';\n",
              "\n",
              "      async function convertToInteractive(key) {\n",
              "        const element = document.querySelector('#df-f2f85660-7000-4d95-bc5a-eb1afd7be067');\n",
              "        const dataTable =\n",
              "          await google.colab.kernel.invokeFunction('convertToInteractive',\n",
              "                                                    [key], {});\n",
              "        if (!dataTable) return;\n",
              "\n",
              "        const docLinkHtml = 'Like what you see? Visit the ' +\n",
              "          '<a target=\"_blank\" href=https://colab.research.google.com/notebooks/data_table.ipynb>data table notebook</a>'\n",
              "          + ' to learn more about interactive tables.';\n",
              "        element.innerHTML = '';\n",
              "        dataTable['output_type'] = 'display_data';\n",
              "        await google.colab.output.renderOutput(dataTable, element);\n",
              "        const docLink = document.createElement('div');\n",
              "        docLink.innerHTML = docLinkHtml;\n",
              "        element.appendChild(docLink);\n",
              "      }\n",
              "    </script>\n",
              "  </div>\n",
              "\n",
              "\n",
              "<div id=\"df-dcae48dd-4c22-42b6-a4a9-ccf7a8bd9dea\">\n",
              "  <button class=\"colab-df-quickchart\" onclick=\"quickchart('df-dcae48dd-4c22-42b6-a4a9-ccf7a8bd9dea')\"\n",
              "            title=\"Suggest charts\"\n",
              "            style=\"display:none;\">\n",
              "\n",
              "<svg xmlns=\"http://www.w3.org/2000/svg\" height=\"24px\"viewBox=\"0 0 24 24\"\n",
              "     width=\"24px\">\n",
              "    <g>\n",
              "        <path d=\"M19 3H5c-1.1 0-2 .9-2 2v14c0 1.1.9 2 2 2h14c1.1 0 2-.9 2-2V5c0-1.1-.9-2-2-2zM9 17H7v-7h2v7zm4 0h-2V7h2v10zm4 0h-2v-4h2v4z\"/>\n",
              "    </g>\n",
              "</svg>\n",
              "  </button>\n",
              "\n",
              "<style>\n",
              "  .colab-df-quickchart {\n",
              "      --bg-color: #E8F0FE;\n",
              "      --fill-color: #1967D2;\n",
              "      --hover-bg-color: #E2EBFA;\n",
              "      --hover-fill-color: #174EA6;\n",
              "      --disabled-fill-color: #AAA;\n",
              "      --disabled-bg-color: #DDD;\n",
              "  }\n",
              "\n",
              "  [theme=dark] .colab-df-quickchart {\n",
              "      --bg-color: #3B4455;\n",
              "      --fill-color: #D2E3FC;\n",
              "      --hover-bg-color: #434B5C;\n",
              "      --hover-fill-color: #FFFFFF;\n",
              "      --disabled-bg-color: #3B4455;\n",
              "      --disabled-fill-color: #666;\n",
              "  }\n",
              "\n",
              "  .colab-df-quickchart {\n",
              "    background-color: var(--bg-color);\n",
              "    border: none;\n",
              "    border-radius: 50%;\n",
              "    cursor: pointer;\n",
              "    display: none;\n",
              "    fill: var(--fill-color);\n",
              "    height: 32px;\n",
              "    padding: 0;\n",
              "    width: 32px;\n",
              "  }\n",
              "\n",
              "  .colab-df-quickchart:hover {\n",
              "    background-color: var(--hover-bg-color);\n",
              "    box-shadow: 0 1px 2px rgba(60, 64, 67, 0.3), 0 1px 3px 1px rgba(60, 64, 67, 0.15);\n",
              "    fill: var(--button-hover-fill-color);\n",
              "  }\n",
              "\n",
              "  .colab-df-quickchart-complete:disabled,\n",
              "  .colab-df-quickchart-complete:disabled:hover {\n",
              "    background-color: var(--disabled-bg-color);\n",
              "    fill: var(--disabled-fill-color);\n",
              "    box-shadow: none;\n",
              "  }\n",
              "\n",
              "  .colab-df-spinner {\n",
              "    border: 2px solid var(--fill-color);\n",
              "    border-color: transparent;\n",
              "    border-bottom-color: var(--fill-color);\n",
              "    animation:\n",
              "      spin 1s steps(1) infinite;\n",
              "  }\n",
              "\n",
              "  @keyframes spin {\n",
              "    0% {\n",
              "      border-color: transparent;\n",
              "      border-bottom-color: var(--fill-color);\n",
              "      border-left-color: var(--fill-color);\n",
              "    }\n",
              "    20% {\n",
              "      border-color: transparent;\n",
              "      border-left-color: var(--fill-color);\n",
              "      border-top-color: var(--fill-color);\n",
              "    }\n",
              "    30% {\n",
              "      border-color: transparent;\n",
              "      border-left-color: var(--fill-color);\n",
              "      border-top-color: var(--fill-color);\n",
              "      border-right-color: var(--fill-color);\n",
              "    }\n",
              "    40% {\n",
              "      border-color: transparent;\n",
              "      border-right-color: var(--fill-color);\n",
              "      border-top-color: var(--fill-color);\n",
              "    }\n",
              "    60% {\n",
              "      border-color: transparent;\n",
              "      border-right-color: var(--fill-color);\n",
              "    }\n",
              "    80% {\n",
              "      border-color: transparent;\n",
              "      border-right-color: var(--fill-color);\n",
              "      border-bottom-color: var(--fill-color);\n",
              "    }\n",
              "    90% {\n",
              "      border-color: transparent;\n",
              "      border-bottom-color: var(--fill-color);\n",
              "    }\n",
              "  }\n",
              "</style>\n",
              "\n",
              "  <script>\n",
              "    async function quickchart(key) {\n",
              "      const quickchartButtonEl =\n",
              "        document.querySelector('#' + key + ' button');\n",
              "      quickchartButtonEl.disabled = true;  // To prevent multiple clicks.\n",
              "      quickchartButtonEl.classList.add('colab-df-spinner');\n",
              "      try {\n",
              "        const charts = await google.colab.kernel.invokeFunction(\n",
              "            'suggestCharts', [key], {});\n",
              "      } catch (error) {\n",
              "        console.error('Error during call to suggestCharts:', error);\n",
              "      }\n",
              "      quickchartButtonEl.classList.remove('colab-df-spinner');\n",
              "      quickchartButtonEl.classList.add('colab-df-quickchart-complete');\n",
              "    }\n",
              "    (() => {\n",
              "      let quickchartButtonEl =\n",
              "        document.querySelector('#df-dcae48dd-4c22-42b6-a4a9-ccf7a8bd9dea button');\n",
              "      quickchartButtonEl.style.display =\n",
              "        google.colab.kernel.accessAllowed ? 'block' : 'none';\n",
              "    })();\n",
              "  </script>\n",
              "</div>\n",
              "\n",
              "  <div id=\"id_d32d4900-a963-44b7-8c20-e258ae06f083\">\n",
              "    <style>\n",
              "      .colab-df-generate {\n",
              "        background-color: #E8F0FE;\n",
              "        border: none;\n",
              "        border-radius: 50%;\n",
              "        cursor: pointer;\n",
              "        display: none;\n",
              "        fill: #1967D2;\n",
              "        height: 32px;\n",
              "        padding: 0 0 0 0;\n",
              "        width: 32px;\n",
              "      }\n",
              "\n",
              "      .colab-df-generate:hover {\n",
              "        background-color: #E2EBFA;\n",
              "        box-shadow: 0px 1px 2px rgba(60, 64, 67, 0.3), 0px 1px 3px 1px rgba(60, 64, 67, 0.15);\n",
              "        fill: #174EA6;\n",
              "      }\n",
              "\n",
              "      [theme=dark] .colab-df-generate {\n",
              "        background-color: #3B4455;\n",
              "        fill: #D2E3FC;\n",
              "      }\n",
              "\n",
              "      [theme=dark] .colab-df-generate:hover {\n",
              "        background-color: #434B5C;\n",
              "        box-shadow: 0px 1px 3px 1px rgba(0, 0, 0, 0.15);\n",
              "        filter: drop-shadow(0px 1px 2px rgba(0, 0, 0, 0.3));\n",
              "        fill: #FFFFFF;\n",
              "      }\n",
              "    </style>\n",
              "    <button class=\"colab-df-generate\" onclick=\"generateWithVariable('data')\"\n",
              "            title=\"Generate code using this dataframe.\"\n",
              "            style=\"display:none;\">\n",
              "\n",
              "  <svg xmlns=\"http://www.w3.org/2000/svg\" height=\"24px\"viewBox=\"0 0 24 24\"\n",
              "       width=\"24px\">\n",
              "    <path d=\"M7,19H8.4L18.45,9,17,7.55,7,17.6ZM5,21V16.75L18.45,3.32a2,2,0,0,1,2.83,0l1.4,1.43a1.91,1.91,0,0,1,.58,1.4,1.91,1.91,0,0,1-.58,1.4L9.25,21ZM18.45,9,17,7.55Zm-12,3A5.31,5.31,0,0,0,4.9,8.1,5.31,5.31,0,0,0,1,6.5,5.31,5.31,0,0,0,4.9,4.9,5.31,5.31,0,0,0,6.5,1,5.31,5.31,0,0,0,8.1,4.9,5.31,5.31,0,0,0,12,6.5,5.46,5.46,0,0,0,6.5,12Z\"/>\n",
              "  </svg>\n",
              "    </button>\n",
              "    <script>\n",
              "      (() => {\n",
              "      const buttonEl =\n",
              "        document.querySelector('#id_d32d4900-a963-44b7-8c20-e258ae06f083 button.colab-df-generate');\n",
              "      buttonEl.style.display =\n",
              "        google.colab.kernel.accessAllowed ? 'block' : 'none';\n",
              "\n",
              "      buttonEl.onclick = () => {\n",
              "        google.colab.notebook.generateWithVariable('data');\n",
              "      }\n",
              "      })();\n",
              "    </script>\n",
              "  </div>\n",
              "\n",
              "    </div>\n",
              "  </div>\n"
            ],
            "application/vnd.google.colaboratory.intrinsic+json": {
              "type": "dataframe",
              "variable_name": "data",
              "summary": "{\n  \"name\": \"data\",\n  \"rows\": 100,\n  \"fields\": [\n    {\n      \"column\": \"Region\",\n      \"properties\": {\n        \"dtype\": \"category\",\n        \"num_unique_values\": 7,\n        \"samples\": [\n          \"Australia and Oceania\",\n          \"Central America and the Caribbean\",\n          \"Middle East and North Africa\"\n        ],\n        \"semantic_type\": \"\",\n        \"description\": \"\"\n      }\n    },\n    {\n      \"column\": \"Country\",\n      \"properties\": {\n        \"dtype\": \"string\",\n        \"num_unique_values\": 76,\n        \"samples\": [\n          \"Rwanda\",\n          \"Brunei\",\n          \"Kyrgyzstan\"\n        ],\n        \"semantic_type\": \"\",\n        \"description\": \"\"\n      }\n    },\n    {\n      \"column\": \"Item Type\",\n      \"properties\": {\n        \"dtype\": \"category\",\n        \"num_unique_values\": 12,\n        \"samples\": [\n          \"Meat\",\n          \"Beverages\",\n          \"Baby Food\"\n        ],\n        \"semantic_type\": \"\",\n        \"description\": \"\"\n      }\n    },\n    {\n      \"column\": \"Sales Channel\",\n      \"properties\": {\n        \"dtype\": \"category\",\n        \"num_unique_values\": 2,\n        \"samples\": [\n          \"Online\",\n          \"Offline\"\n        ],\n        \"semantic_type\": \"\",\n        \"description\": \"\"\n      }\n    },\n    {\n      \"column\": \"Order Priority\",\n      \"properties\": {\n        \"dtype\": \"category\",\n        \"num_unique_values\": 4,\n        \"samples\": [\n          \"C\",\n          \"M\"\n        ],\n        \"semantic_type\": \"\",\n        \"description\": \"\"\n      }\n    },\n    {\n      \"column\": \"Order Date\",\n      \"properties\": {\n        \"dtype\": \"object\",\n        \"num_unique_values\": 100,\n        \"samples\": [\n          \"1/4/2011\",\n          \"11/26/2011\"\n        ],\n        \"semantic_type\": \"\",\n        \"description\": \"\"\n      }\n    },\n    {\n      \"column\": \"Order ID\",\n      \"properties\": {\n        \"dtype\": \"number\",\n        \"std\": 260615257,\n        \"min\": 114606559,\n        \"max\": 994022214,\n        \"num_unique_values\": 100,\n        \"samples\": [\n          122583663,\n          441888415\n        ],\n        \"semantic_type\": \"\",\n        \"description\": \"\"\n      }\n    },\n    {\n      \"column\": \"Ship Date\",\n      \"properties\": {\n        \"dtype\": \"object\",\n        \"num_unique_values\": 99,\n        \"samples\": [\n          \"11/15/2011\",\n          \"3/28/2017\"\n        ],\n        \"semantic_type\": \"\",\n        \"description\": \"\"\n      }\n    },\n    {\n      \"column\": \"Units Sold\",\n      \"properties\": {\n        \"dtype\": \"number\",\n        \"std\": 2794,\n        \"min\": 124,\n        \"max\": 9925,\n        \"num_unique_values\": 99,\n        \"samples\": [\n          5518,\n          3015\n        ],\n        \"semantic_type\": \"\",\n        \"description\": \"\"\n      }\n    },\n    {\n      \"column\": \"Unit Price\",\n      \"properties\": {\n        \"dtype\": \"number\",\n        \"std\": 235.59224058433134,\n        \"min\": 9.33,\n        \"max\": 668.27,\n        \"num_unique_values\": 12,\n        \"samples\": [\n          421.89,\n          47.45\n        ],\n        \"semantic_type\": \"\",\n        \"description\": \"\"\n      }\n    },\n    {\n      \"column\": \"Unit Cost\",\n      \"properties\": {\n        \"dtype\": \"number\",\n        \"std\": 188.2081812485549,\n        \"min\": 6.92,\n        \"max\": 524.96,\n        \"num_unique_values\": 12,\n        \"samples\": [\n          364.69,\n          31.79\n        ],\n        \"semantic_type\": \"\",\n        \"description\": \"\"\n      }\n    },\n    {\n      \"column\": \"Total Revenue\",\n      \"properties\": {\n        \"dtype\": \"number\",\n        \"std\": 1460028.7068235008,\n        \"min\": 4870.26,\n        \"max\": 5997054.98,\n        \"num_unique_values\": 100,\n        \"samples\": [\n          623289.3,\n          2251232.97\n        ],\n        \"semantic_type\": \"\",\n        \"description\": \"\"\n      }\n    },\n    {\n      \"column\": \"Total Cost\",\n      \"properties\": {\n        \"dtype\": \"number\",\n        \"std\": 1083938.2521883622,\n        \"min\": 3612.24,\n        \"max\": 4509793.96,\n        \"num_unique_values\": 100,\n        \"samples\": [\n          398042.4,\n          1814786.72\n        ],\n        \"semantic_type\": \"\",\n        \"description\": \"\"\n      }\n    },\n    {\n      \"column\": \"Total Profit\",\n      \"properties\": {\n        \"dtype\": \"number\",\n        \"std\": 438537.90705963754,\n        \"min\": 1258.02,\n        \"max\": 1719922.04,\n        \"num_unique_values\": 100,\n        \"samples\": [\n          225246.9,\n          436446.25\n        ],\n        \"semantic_type\": \"\",\n        \"description\": \"\"\n      }\n    }\n  ]\n}"
            }
          },
          "metadata": {},
          "execution_count": 16
        }
      ]
    },
    {
      "cell_type": "markdown",
      "source": [
        "# **Data understanding**"
      ],
      "metadata": {
        "id": "0SnoiCtknaAt"
      }
    },
    {
      "cell_type": "markdown",
      "source": [
        "Number of Rows, Columns in the Dataset"
      ],
      "metadata": {
        "id": "qSk8Wjr534GI"
      }
    },
    {
      "cell_type": "code",
      "source": [
        "data.shape"
      ],
      "metadata": {
        "colab": {
          "base_uri": "https://localhost:8080/"
        },
        "id": "hxD388hY3sGR",
        "outputId": "ce33e459-973c-4de4-c63c-aa32c27db204"
      },
      "execution_count": 17,
      "outputs": [
        {
          "output_type": "execute_result",
          "data": {
            "text/plain": [
              "(100, 14)"
            ]
          },
          "metadata": {},
          "execution_count": 17
        }
      ]
    },
    {
      "cell_type": "markdown",
      "source": [
        "Information about Dataset"
      ],
      "metadata": {
        "id": "aphCQyL-3w-u"
      }
    },
    {
      "cell_type": "code",
      "source": [
        "data.info()"
      ],
      "metadata": {
        "colab": {
          "base_uri": "https://localhost:8080/"
        },
        "id": "mlABNoW73t-k",
        "outputId": "7405efeb-5ba0-48fd-a418-0c2bf5bf4054"
      },
      "execution_count": 19,
      "outputs": [
        {
          "output_type": "stream",
          "name": "stdout",
          "text": [
            "<class 'pandas.core.frame.DataFrame'>\n",
            "RangeIndex: 100 entries, 0 to 99\n",
            "Data columns (total 14 columns):\n",
            " #   Column          Non-Null Count  Dtype  \n",
            "---  ------          --------------  -----  \n",
            " 0   Region          100 non-null    object \n",
            " 1   Country         100 non-null    object \n",
            " 2   Item Type       100 non-null    object \n",
            " 3   Sales Channel   100 non-null    object \n",
            " 4   Order Priority  100 non-null    object \n",
            " 5   Order Date      100 non-null    object \n",
            " 6   Order ID        100 non-null    int64  \n",
            " 7   Ship Date       100 non-null    object \n",
            " 8   Units Sold      100 non-null    int64  \n",
            " 9   Unit Price      100 non-null    float64\n",
            " 10  Unit Cost       100 non-null    float64\n",
            " 11  Total Revenue   100 non-null    float64\n",
            " 12  Total Cost      100 non-null    float64\n",
            " 13  Total Profit    100 non-null    float64\n",
            "dtypes: float64(5), int64(2), object(7)\n",
            "memory usage: 11.1+ KB\n"
          ]
        }
      ]
    },
    {
      "cell_type": "markdown",
      "source": [
        "Checking the datatypes of the Dataset"
      ],
      "metadata": {
        "id": "YshOlbGk4xwK"
      }
    },
    {
      "cell_type": "code",
      "source": [
        "data.dtypes"
      ],
      "metadata": {
        "colab": {
          "base_uri": "https://localhost:8080/"
        },
        "id": "8NGjRMaqY-yn",
        "outputId": "3a7d797d-1f8d-4238-d1e0-02464255ab89"
      },
      "execution_count": 20,
      "outputs": [
        {
          "output_type": "execute_result",
          "data": {
            "text/plain": [
              "Region             object\n",
              "Country            object\n",
              "Item Type          object\n",
              "Sales Channel      object\n",
              "Order Priority     object\n",
              "Order Date         object\n",
              "Order ID            int64\n",
              "Ship Date          object\n",
              "Units Sold          int64\n",
              "Unit Price        float64\n",
              "Unit Cost         float64\n",
              "Total Revenue     float64\n",
              "Total Cost        float64\n",
              "Total Profit      float64\n",
              "dtype: object"
            ]
          },
          "metadata": {},
          "execution_count": 20
        }
      ]
    },
    {
      "cell_type": "markdown",
      "source": [
        "# **Data Wrangling**\n",
        "\n",
        "Convert the datatype 'object' to 'Datetime' of the `'Orderdate'` and `'Ship Date'` column."
      ],
      "metadata": {
        "id": "A6Dk6heLT5e5"
      }
    },
    {
      "cell_type": "code",
      "source": [
        "data['Ship Date']=pd.to_datetime(data['Ship Date'])"
      ],
      "metadata": {
        "id": "pbv6sgS3smoU"
      },
      "execution_count": 5,
      "outputs": []
    },
    {
      "cell_type": "code",
      "source": [
        "data['Order Date']=pd.to_datetime(data['Order Date'])"
      ],
      "metadata": {
        "id": "jpr53OF_ZXY5"
      },
      "execution_count": 6,
      "outputs": []
    },
    {
      "cell_type": "code",
      "source": [
        "data['Order Date']"
      ],
      "metadata": {
        "colab": {
          "base_uri": "https://localhost:8080/"
        },
        "id": "3VWbaYFyYFJe",
        "outputId": "8d656071-7a86-456e-9203-b161f9e0221a"
      },
      "execution_count": 7,
      "outputs": [
        {
          "output_type": "execute_result",
          "data": {
            "text/plain": [
              "0    2010-05-28\n",
              "1    2012-08-22\n",
              "2    2014-05-02\n",
              "3    2014-06-20\n",
              "4    2013-02-01\n",
              "        ...    \n",
              "95   2011-07-26\n",
              "96   2011-11-11\n",
              "97   2016-06-01\n",
              "98   2015-07-30\n",
              "99   2012-02-10\n",
              "Name: Order Date, Length: 100, dtype: datetime64[ns]"
            ]
          },
          "metadata": {},
          "execution_count": 7
        }
      ]
    },
    {
      "cell_type": "code",
      "source": [
        "# after\n",
        "data.dtypes"
      ],
      "metadata": {
        "colab": {
          "base_uri": "https://localhost:8080/"
        },
        "id": "u36lXWdawFti",
        "outputId": "cb311230-fc7d-4883-f28a-6197ced399fd"
      },
      "execution_count": 8,
      "outputs": [
        {
          "output_type": "execute_result",
          "data": {
            "text/plain": [
              "Region                    object\n",
              "Country                   object\n",
              "Item Type                 object\n",
              "Sales Channel             object\n",
              "Order Priority            object\n",
              "Order Date        datetime64[ns]\n",
              "Order ID                   int64\n",
              "Ship Date         datetime64[ns]\n",
              "Units Sold                 int64\n",
              "Unit Price               float64\n",
              "Unit Cost                float64\n",
              "Total Revenue            float64\n",
              "Total Cost               float64\n",
              "Total Profit             float64\n",
              "dtype: object"
            ]
          },
          "metadata": {},
          "execution_count": 8
        }
      ]
    },
    {
      "cell_type": "markdown",
      "source": [
        "Checking for null values and duplicated values"
      ],
      "metadata": {
        "id": "ZUScePUy48mi"
      }
    },
    {
      "cell_type": "code",
      "source": [
        "data.isnull().sum()"
      ],
      "metadata": {
        "colab": {
          "base_uri": "https://localhost:8080/"
        },
        "id": "SBJ5--PDUEi3",
        "outputId": "a354a5e8-4855-4634-e94b-346ba712792f"
      },
      "execution_count": 9,
      "outputs": [
        {
          "output_type": "execute_result",
          "data": {
            "text/plain": [
              "Region            0\n",
              "Country           0\n",
              "Item Type         0\n",
              "Sales Channel     0\n",
              "Order Priority    0\n",
              "Order Date        0\n",
              "Order ID          0\n",
              "Ship Date         0\n",
              "Units Sold        0\n",
              "Unit Price        0\n",
              "Unit Cost         0\n",
              "Total Revenue     0\n",
              "Total Cost        0\n",
              "Total Profit      0\n",
              "dtype: int64"
            ]
          },
          "metadata": {},
          "execution_count": 9
        }
      ]
    },
    {
      "cell_type": "code",
      "source": [
        "data.loc[data.duplicated()]"
      ],
      "metadata": {
        "colab": {
          "base_uri": "https://localhost:8080/",
          "height": 67
        },
        "id": "WC-IN9RdUKyy",
        "outputId": "77b016fa-4f18-42c1-e7f7-5cd9091f2799"
      },
      "execution_count": 11,
      "outputs": [
        {
          "output_type": "execute_result",
          "data": {
            "text/plain": [
              "Empty DataFrame\n",
              "Columns: [Region, Country, Item Type, Sales Channel, Order Priority, Order Date, Order ID, Ship Date, Units Sold, Unit Price, Unit Cost, Total Revenue, Total Cost, Total Profit]\n",
              "Index: []"
            ],
            "text/html": [
              "\n",
              "  <div id=\"df-3a2aa7c3-8849-4a70-8743-5272dbcf8d6b\" class=\"colab-df-container\">\n",
              "    <div>\n",
              "<style scoped>\n",
              "    .dataframe tbody tr th:only-of-type {\n",
              "        vertical-align: middle;\n",
              "    }\n",
              "\n",
              "    .dataframe tbody tr th {\n",
              "        vertical-align: top;\n",
              "    }\n",
              "\n",
              "    .dataframe thead th {\n",
              "        text-align: right;\n",
              "    }\n",
              "</style>\n",
              "<table border=\"1\" class=\"dataframe\">\n",
              "  <thead>\n",
              "    <tr style=\"text-align: right;\">\n",
              "      <th></th>\n",
              "      <th>Region</th>\n",
              "      <th>Country</th>\n",
              "      <th>Item Type</th>\n",
              "      <th>Sales Channel</th>\n",
              "      <th>Order Priority</th>\n",
              "      <th>Order Date</th>\n",
              "      <th>Order ID</th>\n",
              "      <th>Ship Date</th>\n",
              "      <th>Units Sold</th>\n",
              "      <th>Unit Price</th>\n",
              "      <th>Unit Cost</th>\n",
              "      <th>Total Revenue</th>\n",
              "      <th>Total Cost</th>\n",
              "      <th>Total Profit</th>\n",
              "    </tr>\n",
              "  </thead>\n",
              "  <tbody>\n",
              "  </tbody>\n",
              "</table>\n",
              "</div>\n",
              "    <div class=\"colab-df-buttons\">\n",
              "\n",
              "  <div class=\"colab-df-container\">\n",
              "    <button class=\"colab-df-convert\" onclick=\"convertToInteractive('df-3a2aa7c3-8849-4a70-8743-5272dbcf8d6b')\"\n",
              "            title=\"Convert this dataframe to an interactive table.\"\n",
              "            style=\"display:none;\">\n",
              "\n",
              "  <svg xmlns=\"http://www.w3.org/2000/svg\" height=\"24px\" viewBox=\"0 -960 960 960\">\n",
              "    <path d=\"M120-120v-720h720v720H120Zm60-500h600v-160H180v160Zm220 220h160v-160H400v160Zm0 220h160v-160H400v160ZM180-400h160v-160H180v160Zm440 0h160v-160H620v160ZM180-180h160v-160H180v160Zm440 0h160v-160H620v160Z\"/>\n",
              "  </svg>\n",
              "    </button>\n",
              "\n",
              "  <style>\n",
              "    .colab-df-container {\n",
              "      display:flex;\n",
              "      gap: 12px;\n",
              "    }\n",
              "\n",
              "    .colab-df-convert {\n",
              "      background-color: #E8F0FE;\n",
              "      border: none;\n",
              "      border-radius: 50%;\n",
              "      cursor: pointer;\n",
              "      display: none;\n",
              "      fill: #1967D2;\n",
              "      height: 32px;\n",
              "      padding: 0 0 0 0;\n",
              "      width: 32px;\n",
              "    }\n",
              "\n",
              "    .colab-df-convert:hover {\n",
              "      background-color: #E2EBFA;\n",
              "      box-shadow: 0px 1px 2px rgba(60, 64, 67, 0.3), 0px 1px 3px 1px rgba(60, 64, 67, 0.15);\n",
              "      fill: #174EA6;\n",
              "    }\n",
              "\n",
              "    .colab-df-buttons div {\n",
              "      margin-bottom: 4px;\n",
              "    }\n",
              "\n",
              "    [theme=dark] .colab-df-convert {\n",
              "      background-color: #3B4455;\n",
              "      fill: #D2E3FC;\n",
              "    }\n",
              "\n",
              "    [theme=dark] .colab-df-convert:hover {\n",
              "      background-color: #434B5C;\n",
              "      box-shadow: 0px 1px 3px 1px rgba(0, 0, 0, 0.15);\n",
              "      filter: drop-shadow(0px 1px 2px rgba(0, 0, 0, 0.3));\n",
              "      fill: #FFFFFF;\n",
              "    }\n",
              "  </style>\n",
              "\n",
              "    <script>\n",
              "      const buttonEl =\n",
              "        document.querySelector('#df-3a2aa7c3-8849-4a70-8743-5272dbcf8d6b button.colab-df-convert');\n",
              "      buttonEl.style.display =\n",
              "        google.colab.kernel.accessAllowed ? 'block' : 'none';\n",
              "\n",
              "      async function convertToInteractive(key) {\n",
              "        const element = document.querySelector('#df-3a2aa7c3-8849-4a70-8743-5272dbcf8d6b');\n",
              "        const dataTable =\n",
              "          await google.colab.kernel.invokeFunction('convertToInteractive',\n",
              "                                                    [key], {});\n",
              "        if (!dataTable) return;\n",
              "\n",
              "        const docLinkHtml = 'Like what you see? Visit the ' +\n",
              "          '<a target=\"_blank\" href=https://colab.research.google.com/notebooks/data_table.ipynb>data table notebook</a>'\n",
              "          + ' to learn more about interactive tables.';\n",
              "        element.innerHTML = '';\n",
              "        dataTable['output_type'] = 'display_data';\n",
              "        await google.colab.output.renderOutput(dataTable, element);\n",
              "        const docLink = document.createElement('div');\n",
              "        docLink.innerHTML = docLinkHtml;\n",
              "        element.appendChild(docLink);\n",
              "      }\n",
              "    </script>\n",
              "  </div>\n",
              "\n",
              "\n",
              "    </div>\n",
              "  </div>\n"
            ],
            "application/vnd.google.colaboratory.intrinsic+json": {
              "type": "dataframe",
              "repr_error": "Out of range float values are not JSON compliant: nan"
            }
          },
          "metadata": {},
          "execution_count": 11
        }
      ]
    },
    {
      "cell_type": "markdown",
      "source": [
        "- We can see that there are 100 observations and 14 features in our dataset.\n",
        "- There are no duplicate values in our dataset.\n",
        "- There are no null values in our dataset.\n",
        "\n",
        "Given that the dataset is now clean, with no duplicate or null values, please save this revised dataset for visualization purposes."
      ],
      "metadata": {
        "id": "BMtKaZVUUx_G"
      }
    },
    {
      "cell_type": "markdown",
      "source": [
        "# **Downloading the Revised Dataset**"
      ],
      "metadata": {
        "id": "5V5zsoFS5HhC"
      }
    },
    {
      "cell_type": "code",
      "source": [
        "# saving the dataframe\n",
        "data.to_csv(r'Revised ASD.csv')"
      ],
      "metadata": {
        "id": "PqiIrMJd8LNY"
      },
      "execution_count": 12,
      "outputs": []
    }
  ]
}